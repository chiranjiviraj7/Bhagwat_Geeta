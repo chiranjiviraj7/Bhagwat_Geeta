{
  "nbformat": 4,
  "nbformat_minor": 0,
  "metadata": {
    "colab": {
      "provenance": []
    },
    "kernelspec": {
      "name": "python3",
      "display_name": "Python 3"
    },
    "language_info": {
      "name": "python"
    }
  },
  "cells": [
    {
      "cell_type": "code",
      "source": [
        "import requests\n",
        "from bs4 import BeautifulSoup"
      ],
      "metadata": {
        "id": "C11_A9jgzuzI"
      },
      "execution_count": null,
      "outputs": []
    },
    {
      "cell_type": "code",
      "source": [
        "def initialisation(page):\n",
        "  URL = \"https://www.gitasupersite.iitk.ac.in/srimad?language=dv&field_chapter_value=18&field_nsutra_value={}&etsiva=1&etpurohit=1&etadi=1\".format(page)\n",
        "  r = requests.get(URL)\n",
        "  print(page)\n",
        "  soup = BeautifulSoup(r.content, 'html5lib')\n",
        "  # print(soup.prettify())\n",
        "  table = soup.find('div', attrs = {'class':'view-content'})\n",
        "  return table"
      ],
      "metadata": {
        "id": "4udICMUN0nZx"
      },
      "execution_count": null,
      "outputs": []
    },
    {
      "cell_type": "code",
      "source": [
        "\n",
        "t = []\n",
        "t1 = []\n",
        "t2 = []\n",
        "t3 = []\n",
        "def fill(table):\n",
        "  contents = [row.text for row in table.find_all_next('p')]\n",
        "  t.append(contents[1]);\n",
        "  t1.append(contents[3]);\n",
        "  t2.append(contents[5]);\n",
        "  t3.append(contents[7]);"
      ],
      "metadata": {
        "id": "wr4BP_d4rVIg"
      },
      "execution_count": null,
      "outputs": []
    },
    {
      "cell_type": "code",
      "source": [
        "\n",
        "for i in range(1,79):\n",
        "  table = initialisation(i)\n",
        "  fill(table)"
      ],
      "metadata": {
        "colab": {
          "base_uri": "https://localhost:8080/"
        },
        "id": "NwCGHjiDpgKq",
        "outputId": "df63ecfa-1f07-4ad8-cf70-e5d1ef2a6aa2"
      },
      "execution_count": null,
      "outputs": [
        {
          "output_type": "stream",
          "name": "stdout",
          "text": [
            "1\n",
            "2\n",
            "3\n",
            "4\n",
            "5\n",
            "6\n",
            "7\n",
            "8\n",
            "9\n",
            "10\n",
            "11\n",
            "12\n",
            "13\n",
            "14\n",
            "15\n",
            "16\n",
            "17\n",
            "18\n",
            "19\n",
            "20\n",
            "21\n",
            "22\n",
            "23\n",
            "24\n",
            "25\n",
            "26\n",
            "27\n",
            "28\n",
            "29\n",
            "30\n",
            "31\n",
            "32\n",
            "33\n",
            "34\n",
            "35\n",
            "36\n",
            "37\n",
            "38\n",
            "39\n",
            "40\n",
            "41\n",
            "42\n",
            "43\n",
            "44\n",
            "45\n",
            "46\n",
            "47\n",
            "48\n",
            "49\n",
            "50\n",
            "51\n",
            "52\n",
            "53\n",
            "54\n",
            "55\n",
            "56\n",
            "57\n",
            "58\n",
            "59\n",
            "60\n",
            "61\n",
            "62\n",
            "63\n",
            "64\n",
            "65\n",
            "66\n",
            "67\n",
            "68\n",
            "69\n",
            "70\n",
            "71\n",
            "72\n",
            "73\n",
            "74\n",
            "75\n",
            "76\n",
            "77\n",
            "78\n"
          ]
        }
      ]
    },
    {
      "cell_type": "code",
      "source": [
        "t1"
      ],
      "metadata": {
        "colab": {
          "base_uri": "https://localhost:8080/"
        },
        "id": "VvjVNMU3qLhv",
        "outputId": "247a02ed-3300-4e15-9afc-dd1e88939b5b"
      },
      "execution_count": null,
      "outputs": [
        {
          "output_type": "execute_result",
          "data": {
            "text/plain": [
              "['18.1 Arjuna said  I desire to know the truth about renunciation (Sannyasa) and abnegation (Tyaga) severally, O Krsna.\\n\\n',\n",
              " '18.2 The Lord said  The sages hold that Sannyasa is the giving up of all works which are motivated by desire. The wise declare Tyaga to be the abandonment of fruits of all works.\\n\\n',\n",
              " '18.3 Some sages say that all actions should be given up as evil; others declare that works such as sacrifices, gifts and austerities should not be given up.\\n\\n',\n",
              " '18.4 Listen to My decision, O Arjuna, about abandonment; for abandonment (Tyaga) is declared to be of three kinds.\\n\\n',\n",
              " '18.5 (a) The acts of sacrifice, gifts and austerities should not be relinished; but should be performed৷৷.\\n\\n(b). ৷৷.For sacrifices, gifts and austerities are the means of purification for the wise.\\n\\n',\n",
              " '18.6 It is My decided and final view that even these acts should be done, O Arjuna, with relinishment of attachment and the fruits thereof.\\n\\n',\n",
              " '18.7 But the renunciation of obligatory acts is not proper. Abandonment of these through delusion is declared to be Tamasika.\\n\\n',\n",
              " '18.8 He who renounces acts as painful from fear of bodily suffering, performs a Rajasika abandonment; he does not gain the fruit of abandonment.\\n\\n',\n",
              " '18.9 When actions are performed as what ought to be done, O Arjuna, renouncing attachment and also fruits, such abandonment is regarded as Sattvika.\\n\\n',\n",
              " '18.10 One who has abandoned, who is imbued with Sattva, who is wise, whose doubts have been dispelled - such a person hates not disagreeable acts nor clings to agreeable ones.\\n\\n',\n",
              " '18.11 For, it is impossible for one who bears a body to abandon actions entirely. But he who gives up the fruits of works, is called the abandoner.\\n\\n',\n",
              " '18.12 Undesirable, desirable and mixed - thus threefold is the fruit of work that accrues after death to those who have not renounced; but to those who have renounced, none whatsoever.\\n\\n',\n",
              " '18.13 Learn from Me, O Arjuna, these five causes for the accomplishment of all acts, as described in Sankhya-krtanta - the science of the exact understanding of things for the accomplishment of works.\\n\\n',\n",
              " '18.14 The seat of action and likewise the agent, the various kinds of organs, the different and distinctive functions of vital air and also the fifth among these, Divinity.\\n\\n',\n",
              " '18.15 For whatever action a man undertakes by his body, speech and mind, whether right or wrong, i.e., enjoined or forbidden by the Sastras, the following five are its causes:\\n\\n',\n",
              " '18.16 Such being the case, he who sees only the self as the agent on account of the uncultivated understanding - he, of wicked mind, does not see at all.\\n\\n',\n",
              " \"18.17 He who is free from the notion 'I am the doer,' and whose understanding is not tainted - slays not, though he slays all these men, nor is he bound.\\n\\n\",\n",
              " '18.18 Knowledge, object of knowledge and the knower are the threefold incitements to action. The instrument, the act and the agent are the threefold constituents of action.\\n\\n',\n",
              " '18.19 Knowledge, act and agent are declared in the science of Gunas to be of three kinds, according to the difference in the Gunas. Listen about them also as they are.\\n\\n',\n",
              " '18.20 Know that Knowledge to be Sattvika by which one sees in all beings, one immutable existence undivided in the divided.\\n\\n',\n",
              " '18.21 But that knowledge which sees all beings, by reason of their individuality, as entities of distinct nature - know that knowledge to be Rajasika.\\n\\n',\n",
              " '18.22 But that knowledge is declared to be Tamasika which clings to one single act as if it were the whole, which is not founded on reason, and which is untrue and insignificant.\\n\\n',\n",
              " '18.23 That obligatory act is said to be Sattvika which is done without attachment, without desire or aversion, by one who seeks no fruit.\\n\\n',\n",
              " '18.24 But that act is said to be Rajasika which is performed with great effort by one who seeks to gratify his desires and under the prompting of egoism.\\n\\n',\n",
              " \"18.25 That act is said to be Tamasika which is undertaken through delusion, without regard to conseences, loss, injury and one's own capacity.\\n\\n\",\n",
              " '18.26 That agent is said to be Sattvika who is free from attachment, who does not make much of himself, who is endued with steadiness and zeal and is untouched by success and failure.\\n\\n',\n",
              " '18.27 That doer is called Rajasika who is passionate, who seeks the fruits of his acts, who is greedy, harmful, impure and who is moved by delight and grief.\\n\\n',\n",
              " '18.28 That doer is said to be Tamasika who is unalified, unrefined, stubborn, depraved, dishonest, indolent, despondent and dilatory.\\n\\n',\n",
              " '18.29 Hear now, the threefold division of Buddhi (reason) and Dhrti (fortitude), O Arjuna, according to the Gunas, fully and severally to be set forth.\\n\\n',\n",
              " '18.30 That Buddhi, O Arjuna, which knows activity and renunciation, what ought to be done and what ought not to be done, fear and fearlessness, bondage and release - that (Buddhi) is Sattvika.\\n\\n',\n",
              " '18.31 The Buddhi which gives an erroneous knowledge of Dharma and Adharma (its opposite) and also of what ought to be done and what ought not to be done, O Arjuna, is Rajasika.\\n\\n',\n",
              " '18.32 That Buddhi, O Arjuna, which, enveloped in darkness, regards Adharma as Dharma and which reverses every value, is Tamasika.\\n\\n',\n",
              " '18.33 That Dhrti (fortitude or persisting perseverance) by which one maintains the unswerving activities of the mind and vital force and these sense-organs through Yoga - that Dhrti is of the nature of Sattva.\\n\\n',\n",
              " '18.34 That Dhrti, O Arjuna, by which one, who is desirous of fruits, longs for them with intense attachment, and holds fast to duty, desire and wealth - that Dhrti is Rajasika.\\n\\n',\n",
              " '18.35 That Dhrti by which a foolish person does not give up sleep, fear, grief, depression and passion, O Arjuna, is of the nature of Tamas.\\n\\n',\n",
              " '18.36 Now hear from Me, O Arjuna, the threefold division of pleasure৷৷. that in which a man rejoices by long practice and in which he comes to the end of pain;\\n\\n',\n",
              " '18.37 That which is like a poison at first but becomes like elixir in the end, born from the serene state of mind focusing on the self - such pleasure is said to be Sattvika.\\n\\n',\n",
              " '18.38 That pleasure which arises from the contact of senses with their objects, which is like elixir at first but like poison in the end, is said to be Rajasika.\\n\\n',\n",
              " '18.39 That pleasure which, at the beginning and at the end, deludes the self, through sleep, sloth and error - is declared to be Tamasika.\\n\\n',\n",
              " '18.40 There is no creature, either on earth or again among the gods in heaven, that is free from these three Gunas born of Prakrti.\\n\\n',\n",
              " '18.41  The duties of the Brahmanas, Ksatriyas, Vaisyas and the Sudras are clearly divided, O Arjuna, according to Gunas, born of their nature.\\n\\n',\n",
              " '18.42 Control of the senses and the mind, austerity, purity, forbearance, uprightness, knowledge, special knowledge, and faith - all these constitute the duty of Brahmana born of his inherent nature.\\n\\n',\n",
              " '18.43 Valour, invincibility, steadiness, adroitness and non-fleeing in battle, generosity and lordliness are the duties of a Ksatriya born of his inherent nature.\\n\\n',\n",
              " '18.44 Agriculture, cattle-breeding and trade are the duties of the Vaisya born of his nature৷৷. And the duty of a Sudra is one of service, born of his nature.\\n\\n',\n",
              " '18.45 Devoted to his duty, man attains perfection. Hear now how one devoted to his own duty attains perfection.\\n\\n',\n",
              " '18.46 He from whome arise the activity of all beings and by whom all this is pervaded - by worshipping Him with his own duty man reaches perfection.\\n\\n',\n",
              " \"18.47 Better is one's own duty, though ill done, than the duty of another, though well-performed৷৷৷৷৷৷ When one does the duty ordained by his own nature, he incurs no stain.\\n\\n\",\n",
              " \"18.48 One should not relinish one's works, O Arjuna, though it may be imperfect; for, all enterprises are enveloped by imperfections as fire by smoke.\\n\\n\",\n",
              " '18.49 He whose understanding is on all sides unattached, whose self is conered, who is free from desires - he attains by renunciation the supreme perfection transcending all activity.\\n\\n',\n",
              " '18.50 Learn from me in brief, O Arjuna, how, one who has attained perfection, attains the brahman (or the self), who is the supreme consummation of knowledge.\\n\\n',\n",
              " '18.51 Endowed by a purified understanding, subduing the mind by steadiness, relinishing sound and other objectts of the senses and casting aside love and hate;\\n\\n',\n",
              " '18.52 Resorting to solitude, eating but little, restraining speech, body and mind, ever engaged in the Yoga of meditation and taking refuge in dispassion;\\n\\n',\n",
              " \"18.53 Forsaking egoism, power, pride, desire, wrath and possession, with no feeling of 'mine' and tranil - he becomes worthy for the state of brahman.\\n\\n\",\n",
              " '18.54 Having realised the state of Brahman, tranil, he neither grieves nor craves. Regarding all beings alike, he attains supreme devotion to Me.\\n\\n',\n",
              " '18.55 Through devotion, he comes to know Me fully - who and what I am in reality, who I am and how I am. Knowing Me thus in truth, he forthwith enters into Me.\\n\\n',\n",
              " '18.56 Taking refuge in Me and performing all works constantly, one, by My grace, attains the eternal and immutable realm.\\n\\n',\n",
              " '18.57 Surrendering all acts to me by your mind, thinking of Me as the goal, and resorting to Buddhi-yoga, focus your thought ever on Me.\\n\\n',\n",
              " '18.58 Focusing your thought on Me, you shall, by My grace, cross over all difficulties. If, however, out of self-conceit, you do not heed Me, you shall perish.\\n\\n',\n",
              " \"18.59 If, in your self-conceit, you think, 'I will not fight,' your resolve is in vain. Nature will compel you.\\n\\n\",\n",
              " '18.60 O Arjuna, bound by your own duty born out of your own inner disposition, and having no control over your own will, you will be compelled to do that very thing which you now desire not to do through delusion.\\n\\n',\n",
              " '18.61 The Lord, O Arjuna, abides in the heart of every being, spinning them round and round, mounted on a wheel as it were, by His power.\\n\\n',\n",
              " '18.62 Seek refuge in Him alone, O Arjuna, with the whole of your being. By His grace, you shall find supreme peace and eternal abode.\\n\\n',\n",
              " '18.63 Thus the knowledge, the mystery of mysteries, has been declared to you be Me. Reflecting on it fully, do what you will.\\n\\n',\n",
              " '18.64 Hear again My supreme word, the most secret of all; as you are exceedingly loved by Me, I am telling what is good for you.\\n\\n',\n",
              " '18.65 Focus your mind on Me. Be My devotee. Be My worshipper. Prostrate before Me. You shall come to Me alone. I promise you, trully; for you are dear to Me.\\n\\n',\n",
              " '18.66 Completely relinishing all Dharmas, seek Me alone for refuge. I will release you from all sins. Grieve not:\\n\\n',\n",
              " '18.67 Never should this be told by you to one who is not austere, who is not a devotee, nor to one who has no wish to listen, nor certainly to him who traduces Me.\\n\\n',\n",
              " '18.68 He who proclaims among My devotees this supreme mystery, shall come to Me, aciring supreme devotion towards Me. There is no doubt about this.\\n\\n',\n",
              " '18.69 Not among men is there any one who does dearer service to Me than he. Nor shall there be another on earth dearer to Me than he.\\n\\n',\n",
              " '18.70 And he who will study his dialogue of ours which is consistent with Dharma, by him I shall be worshipped through the sacrifice of knowledge; such is My view.\\n\\n',\n",
              " '18.71 And the man who listens to it with faith and without cavilling, he too shall be released, and shall reach the auspicious realms of those who have performed virtuous deeds.\\n\\n',\n",
              " '18.72 Have you heard this, O Arjuna, with one-pointed mind?  Has your delusion, caused by ignorance, been dispelled?\\n\\n',\n",
              " '18.73 Arjuna said  Destroyed is my delusion and I have, by your grace, O Krsna, gained knowledge (Smrti). Freed from doubts, I stand steadfast, I will fulfil Your world.\\n\\n',\n",
              " '18.74 Sanjaya said  Thus have I heard this wondrous dialogue between Vasudeva and the great-minded Arjuna, which makes my hair stand on end.\\n\\n',\n",
              " '18.75 By the grace of Vyasa have I heard this supreme mystery of Yoga as declared in person by Krsna, the Lord of Yoga.\\n\\n',\n",
              " '18.76 O King, remembering again and again this wondrous and auspicious dialogue betweenn Sri Krsna and Arjuna, I rejoice again and again.\\n\\n',\n",
              " '18.77 And remembering over and over again that most marvellous form of Hari, great is my amazement, O King, and I rejoice again and again.\\n\\n',\n",
              " '18.78 Wherever there is Sri Krsna, the Lord of Yoga, and Arjuna the archer, there are ever fortune, victory, wealth and sound morality. This is my firm conviction.\\n\\n']"
            ]
          },
          "metadata": {},
          "execution_count": 34
        }
      ]
    },
    {
      "cell_type": "code",
      "source": [
        "shlokas = []\n",
        "for i in range(len(t)):\n",
        "  shloka = {}\n",
        "  shloka['Shloka'] = t[i]\n",
        "  shloka['English Translation By Swami Adidevananda'] = t1[i]\n",
        "  shloka['English Translation By Shri Purohit Swami'] = t2[i]\n",
        "  shloka['English Translation By Swami Sivananda'] = t3[i]\n",
        "  shlokas.append(shloka)"
      ],
      "metadata": {
        "id": "AwKHR58jqwCA"
      },
      "execution_count": null,
      "outputs": []
    },
    {
      "cell_type": "code",
      "source": [
        "import pandas as pd\n",
        "ds = pd.DataFrame(shlokas)\n",
        "ds.to_excel('geeta18.xlsx', index=False)"
      ],
      "metadata": {
        "id": "iwB8Y0T3V5VI"
      },
      "execution_count": null,
      "outputs": []
    },
    {
      "cell_type": "code",
      "source": [],
      "metadata": {
        "id": "xTSrPBCgWsHz"
      },
      "execution_count": null,
      "outputs": []
    }
  ]
}